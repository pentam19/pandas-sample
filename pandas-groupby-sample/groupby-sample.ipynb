{
 "cells": [
  {
   "cell_type": "code",
   "execution_count": 1,
   "metadata": {},
   "outputs": [],
   "source": [
    "import pandas as pd"
   ]
  },
  {
   "cell_type": "code",
   "execution_count": 2,
   "metadata": {},
   "outputs": [
    {
     "name": "stdout",
     "output_type": "stream",
     "text": [
      "             okashi  price           purchase_at\n",
      "0  umaibou-norishio     12  2022-10-10T04:50:33Z\n",
      "1    umaibou-mentai     12  2022-10-10T07:00:18Z\n",
      "2    umaibou-mentai     12  2022-10-10T20:34:46Z\n",
      "3           bacchus    228  2022-10-11T05:30:46Z\n",
      "4           yocchan     50  2022-10-11T19:20:23Z\n",
      "5          jagariko     98  2022-10-15T10:45:10Z\n"
     ]
    }
   ],
   "source": [
    "df = pd.read_csv('table.csv', header=0)\n",
    "print(df)"
   ]
  },
  {
   "cell_type": "code",
   "execution_count": 3,
   "metadata": {},
   "outputs": [
    {
     "data": {
      "text/plain": [
       "okashi         object\n",
       "price           int64\n",
       "purchase_at    object\n",
       "dtype: object"
      ]
     },
     "execution_count": 3,
     "metadata": {},
     "output_type": "execute_result"
    }
   ],
   "source": [
    "df.dtypes"
   ]
  },
  {
   "cell_type": "code",
   "execution_count": 4,
   "metadata": {},
   "outputs": [
    {
     "data": {
      "text/plain": [
       "okashi                      object\n",
       "price                        int64\n",
       "purchase_at    datetime64[ns, UTC]\n",
       "dtype: object"
      ]
     },
     "execution_count": 4,
     "metadata": {},
     "output_type": "execute_result"
    }
   ],
   "source": [
    "df[\"purchase_at\"] = pd.to_datetime(df[\"purchase_at\"])\n",
    "df.dtypes"
   ]
  },
  {
   "cell_type": "code",
   "execution_count": 5,
   "metadata": {},
   "outputs": [
    {
     "data": {
      "text/html": [
       "<div>\n",
       "<style scoped>\n",
       "    .dataframe tbody tr th:only-of-type {\n",
       "        vertical-align: middle;\n",
       "    }\n",
       "\n",
       "    .dataframe tbody tr th {\n",
       "        vertical-align: top;\n",
       "    }\n",
       "\n",
       "    .dataframe thead th {\n",
       "        text-align: right;\n",
       "    }\n",
       "</style>\n",
       "<table border=\"1\" class=\"dataframe\">\n",
       "  <thead>\n",
       "    <tr style=\"text-align: right;\">\n",
       "      <th></th>\n",
       "      <th>price</th>\n",
       "    </tr>\n",
       "    <tr>\n",
       "      <th>purchase_at</th>\n",
       "      <th></th>\n",
       "    </tr>\n",
       "  </thead>\n",
       "  <tbody>\n",
       "    <tr>\n",
       "      <th>2022-10-10 00:00:00+00:00</th>\n",
       "      <td>36</td>\n",
       "    </tr>\n",
       "    <tr>\n",
       "      <th>2022-10-11 00:00:00+00:00</th>\n",
       "      <td>278</td>\n",
       "    </tr>\n",
       "    <tr>\n",
       "      <th>2022-10-12 00:00:00+00:00</th>\n",
       "      <td>0</td>\n",
       "    </tr>\n",
       "    <tr>\n",
       "      <th>2022-10-13 00:00:00+00:00</th>\n",
       "      <td>0</td>\n",
       "    </tr>\n",
       "    <tr>\n",
       "      <th>2022-10-14 00:00:00+00:00</th>\n",
       "      <td>0</td>\n",
       "    </tr>\n",
       "    <tr>\n",
       "      <th>2022-10-15 00:00:00+00:00</th>\n",
       "      <td>98</td>\n",
       "    </tr>\n",
       "  </tbody>\n",
       "</table>\n",
       "</div>"
      ],
      "text/plain": [
       "                           price\n",
       "purchase_at                     \n",
       "2022-10-10 00:00:00+00:00     36\n",
       "2022-10-11 00:00:00+00:00    278\n",
       "2022-10-12 00:00:00+00:00      0\n",
       "2022-10-13 00:00:00+00:00      0\n",
       "2022-10-14 00:00:00+00:00      0\n",
       "2022-10-15 00:00:00+00:00     98"
      ]
     },
     "execution_count": 5,
     "metadata": {},
     "output_type": "execute_result"
    }
   ],
   "source": [
    "df[['purchase_at', 'price']].groupby(pd.Grouper(key=\"purchase_at\", freq=\"D\")).sum()"
   ]
  },
  {
   "cell_type": "code",
   "execution_count": 6,
   "metadata": {},
   "outputs": [
    {
     "data": {
      "text/html": [
       "<div>\n",
       "<style scoped>\n",
       "    .dataframe tbody tr th:only-of-type {\n",
       "        vertical-align: middle;\n",
       "    }\n",
       "\n",
       "    .dataframe tbody tr th {\n",
       "        vertical-align: top;\n",
       "    }\n",
       "\n",
       "    .dataframe thead th {\n",
       "        text-align: right;\n",
       "    }\n",
       "</style>\n",
       "<table border=\"1\" class=\"dataframe\">\n",
       "  <thead>\n",
       "    <tr style=\"text-align: right;\">\n",
       "      <th></th>\n",
       "      <th>price</th>\n",
       "    </tr>\n",
       "    <tr>\n",
       "      <th>purchase_at</th>\n",
       "      <th></th>\n",
       "    </tr>\n",
       "  </thead>\n",
       "  <tbody>\n",
       "    <tr>\n",
       "      <th>2022-10-16 00:00:00+00:00</th>\n",
       "      <td>412</td>\n",
       "    </tr>\n",
       "  </tbody>\n",
       "</table>\n",
       "</div>"
      ],
      "text/plain": [
       "                           price\n",
       "purchase_at                     \n",
       "2022-10-16 00:00:00+00:00    412"
      ]
     },
     "execution_count": 6,
     "metadata": {},
     "output_type": "execute_result"
    }
   ],
   "source": [
    "df[['purchase_at', 'price']].groupby(pd.Grouper(key=\"purchase_at\", freq=\"W\")).sum()"
   ]
  },
  {
   "cell_type": "code",
   "execution_count": 7,
   "metadata": {},
   "outputs": [
    {
     "data": {
      "text/html": [
       "<div>\n",
       "<style scoped>\n",
       "    .dataframe tbody tr th:only-of-type {\n",
       "        vertical-align: middle;\n",
       "    }\n",
       "\n",
       "    .dataframe tbody tr th {\n",
       "        vertical-align: top;\n",
       "    }\n",
       "\n",
       "    .dataframe thead th {\n",
       "        text-align: right;\n",
       "    }\n",
       "</style>\n",
       "<table border=\"1\" class=\"dataframe\">\n",
       "  <thead>\n",
       "    <tr style=\"text-align: right;\">\n",
       "      <th></th>\n",
       "      <th>price</th>\n",
       "    </tr>\n",
       "    <tr>\n",
       "      <th>purchase_at</th>\n",
       "      <th></th>\n",
       "    </tr>\n",
       "  </thead>\n",
       "  <tbody>\n",
       "    <tr>\n",
       "      <th>2022-10-10 00:00:00+00:00</th>\n",
       "      <td>12.0</td>\n",
       "    </tr>\n",
       "    <tr>\n",
       "      <th>2022-10-11 00:00:00+00:00</th>\n",
       "      <td>139.0</td>\n",
       "    </tr>\n",
       "    <tr>\n",
       "      <th>2022-10-12 00:00:00+00:00</th>\n",
       "      <td>NaN</td>\n",
       "    </tr>\n",
       "    <tr>\n",
       "      <th>2022-10-13 00:00:00+00:00</th>\n",
       "      <td>NaN</td>\n",
       "    </tr>\n",
       "    <tr>\n",
       "      <th>2022-10-14 00:00:00+00:00</th>\n",
       "      <td>NaN</td>\n",
       "    </tr>\n",
       "    <tr>\n",
       "      <th>2022-10-15 00:00:00+00:00</th>\n",
       "      <td>98.0</td>\n",
       "    </tr>\n",
       "  </tbody>\n",
       "</table>\n",
       "</div>"
      ],
      "text/plain": [
       "                           price\n",
       "purchase_at                     \n",
       "2022-10-10 00:00:00+00:00   12.0\n",
       "2022-10-11 00:00:00+00:00  139.0\n",
       "2022-10-12 00:00:00+00:00    NaN\n",
       "2022-10-13 00:00:00+00:00    NaN\n",
       "2022-10-14 00:00:00+00:00    NaN\n",
       "2022-10-15 00:00:00+00:00   98.0"
      ]
     },
     "execution_count": 7,
     "metadata": {},
     "output_type": "execute_result"
    }
   ],
   "source": [
    "df[['purchase_at', 'price']].groupby(pd.Grouper(key=\"purchase_at\", freq=\"D\")).mean()"
   ]
  },
  {
   "cell_type": "code",
   "execution_count": 8,
   "metadata": {},
   "outputs": [
    {
     "data": {
      "text/html": [
       "<div>\n",
       "<style scoped>\n",
       "    .dataframe tbody tr th:only-of-type {\n",
       "        vertical-align: middle;\n",
       "    }\n",
       "\n",
       "    .dataframe tbody tr th {\n",
       "        vertical-align: top;\n",
       "    }\n",
       "\n",
       "    .dataframe thead th {\n",
       "        text-align: right;\n",
       "    }\n",
       "</style>\n",
       "<table border=\"1\" class=\"dataframe\">\n",
       "  <thead>\n",
       "    <tr style=\"text-align: right;\">\n",
       "      <th></th>\n",
       "      <th>okashi</th>\n",
       "      <th>price</th>\n",
       "    </tr>\n",
       "    <tr>\n",
       "      <th>purchase_at</th>\n",
       "      <th></th>\n",
       "      <th></th>\n",
       "    </tr>\n",
       "  </thead>\n",
       "  <tbody>\n",
       "    <tr>\n",
       "      <th>2022-10-10 00:00:00+00:00</th>\n",
       "      <td>3</td>\n",
       "      <td>3</td>\n",
       "    </tr>\n",
       "    <tr>\n",
       "      <th>2022-10-11 00:00:00+00:00</th>\n",
       "      <td>2</td>\n",
       "      <td>2</td>\n",
       "    </tr>\n",
       "    <tr>\n",
       "      <th>2022-10-12 00:00:00+00:00</th>\n",
       "      <td>0</td>\n",
       "      <td>0</td>\n",
       "    </tr>\n",
       "    <tr>\n",
       "      <th>2022-10-13 00:00:00+00:00</th>\n",
       "      <td>0</td>\n",
       "      <td>0</td>\n",
       "    </tr>\n",
       "    <tr>\n",
       "      <th>2022-10-14 00:00:00+00:00</th>\n",
       "      <td>0</td>\n",
       "      <td>0</td>\n",
       "    </tr>\n",
       "    <tr>\n",
       "      <th>2022-10-15 00:00:00+00:00</th>\n",
       "      <td>1</td>\n",
       "      <td>1</td>\n",
       "    </tr>\n",
       "  </tbody>\n",
       "</table>\n",
       "</div>"
      ],
      "text/plain": [
       "                           okashi  price\n",
       "purchase_at                             \n",
       "2022-10-10 00:00:00+00:00       3      3\n",
       "2022-10-11 00:00:00+00:00       2      2\n",
       "2022-10-12 00:00:00+00:00       0      0\n",
       "2022-10-13 00:00:00+00:00       0      0\n",
       "2022-10-14 00:00:00+00:00       0      0\n",
       "2022-10-15 00:00:00+00:00       1      1"
      ]
     },
     "execution_count": 8,
     "metadata": {},
     "output_type": "execute_result"
    }
   ],
   "source": [
    "df.groupby(pd.Grouper(key=\"purchase_at\", freq=\"D\")).count()"
   ]
  },
  {
   "cell_type": "code",
   "execution_count": 9,
   "metadata": {},
   "outputs": [
    {
     "data": {
      "text/plain": [
       "purchase_at\n",
       "2022-10-10 00:00:00+00:00    2\n",
       "2022-10-11 00:00:00+00:00    2\n",
       "2022-10-12 00:00:00+00:00    0\n",
       "2022-10-13 00:00:00+00:00    0\n",
       "2022-10-14 00:00:00+00:00    0\n",
       "2022-10-15 00:00:00+00:00    1\n",
       "Freq: D, Name: okashi, dtype: int64"
      ]
     },
     "execution_count": 9,
     "metadata": {},
     "output_type": "execute_result"
    }
   ],
   "source": [
    "df.groupby(pd.Grouper(key=\"purchase_at\", freq=\"D\"))['okashi'].nunique()"
   ]
  },
  {
   "cell_type": "code",
   "execution_count": 10,
   "metadata": {},
   "outputs": [
    {
     "data": {
      "text/html": [
       "<div>\n",
       "<style scoped>\n",
       "    .dataframe tbody tr th:only-of-type {\n",
       "        vertical-align: middle;\n",
       "    }\n",
       "\n",
       "    .dataframe tbody tr th {\n",
       "        vertical-align: top;\n",
       "    }\n",
       "\n",
       "    .dataframe thead th {\n",
       "        text-align: right;\n",
       "    }\n",
       "</style>\n",
       "<table border=\"1\" class=\"dataframe\">\n",
       "  <thead>\n",
       "    <tr style=\"text-align: right;\">\n",
       "      <th></th>\n",
       "      <th>okashi</th>\n",
       "    </tr>\n",
       "    <tr>\n",
       "      <th>purchase_at</th>\n",
       "      <th></th>\n",
       "    </tr>\n",
       "  </thead>\n",
       "  <tbody>\n",
       "    <tr>\n",
       "      <th>2022-10-10 00:00:00+00:00</th>\n",
       "      <td>2</td>\n",
       "    </tr>\n",
       "    <tr>\n",
       "      <th>2022-10-11 00:00:00+00:00</th>\n",
       "      <td>2</td>\n",
       "    </tr>\n",
       "    <tr>\n",
       "      <th>2022-10-12 00:00:00+00:00</th>\n",
       "      <td>0</td>\n",
       "    </tr>\n",
       "    <tr>\n",
       "      <th>2022-10-13 00:00:00+00:00</th>\n",
       "      <td>0</td>\n",
       "    </tr>\n",
       "    <tr>\n",
       "      <th>2022-10-14 00:00:00+00:00</th>\n",
       "      <td>0</td>\n",
       "    </tr>\n",
       "    <tr>\n",
       "      <th>2022-10-15 00:00:00+00:00</th>\n",
       "      <td>1</td>\n",
       "    </tr>\n",
       "  </tbody>\n",
       "</table>\n",
       "</div>"
      ],
      "text/plain": [
       "                           okashi\n",
       "purchase_at                      \n",
       "2022-10-10 00:00:00+00:00       2\n",
       "2022-10-11 00:00:00+00:00       2\n",
       "2022-10-12 00:00:00+00:00       0\n",
       "2022-10-13 00:00:00+00:00       0\n",
       "2022-10-14 00:00:00+00:00       0\n",
       "2022-10-15 00:00:00+00:00       1"
      ]
     },
     "execution_count": 10,
     "metadata": {},
     "output_type": "execute_result"
    }
   ],
   "source": [
    "df.groupby(pd.Grouper(key=\"purchase_at\", freq=\"D\")).agg({'okashi': pd.Series.nunique})\n"
   ]
  },
  {
   "cell_type": "code",
   "execution_count": 11,
   "metadata": {},
   "outputs": [
    {
     "data": {
      "text/plain": [
       "{'okashi': {0: 'umaibou-norishio',\n",
       "  1: 'umaibou-mentai',\n",
       "  2: 'umaibou-mentai',\n",
       "  3: 'bacchus',\n",
       "  4: 'yocchan',\n",
       "  5: 'jagariko'},\n",
       " 'price': {0: 12, 1: 12, 2: 12, 3: 228, 4: 50, 5: 98},\n",
       " 'purchase_at': {0: Timestamp('2022-10-10 04:50:33+0000', tz='UTC'),\n",
       "  1: Timestamp('2022-10-10 07:00:18+0000', tz='UTC'),\n",
       "  2: Timestamp('2022-10-10 20:34:46+0000', tz='UTC'),\n",
       "  3: Timestamp('2022-10-11 05:30:46+0000', tz='UTC'),\n",
       "  4: Timestamp('2022-10-11 19:20:23+0000', tz='UTC'),\n",
       "  5: Timestamp('2022-10-15 10:45:10+0000', tz='UTC')}}"
      ]
     },
     "execution_count": 11,
     "metadata": {},
     "output_type": "execute_result"
    }
   ],
   "source": [
    "d_dict = df.to_dict(orient='dict')\n",
    "d_dict"
   ]
  },
  {
   "cell_type": "code",
   "execution_count": 12,
   "metadata": {},
   "outputs": [
    {
     "data": {
      "text/plain": [
       "[{'okashi': 'umaibou-norishio',\n",
       "  'price': 12,\n",
       "  'purchase_at': Timestamp('2022-10-10 04:50:33+0000', tz='UTC')},\n",
       " {'okashi': 'umaibou-mentai',\n",
       "  'price': 12,\n",
       "  'purchase_at': Timestamp('2022-10-10 07:00:18+0000', tz='UTC')},\n",
       " {'okashi': 'umaibou-mentai',\n",
       "  'price': 12,\n",
       "  'purchase_at': Timestamp('2022-10-10 20:34:46+0000', tz='UTC')},\n",
       " {'okashi': 'bacchus',\n",
       "  'price': 228,\n",
       "  'purchase_at': Timestamp('2022-10-11 05:30:46+0000', tz='UTC')},\n",
       " {'okashi': 'yocchan',\n",
       "  'price': 50,\n",
       "  'purchase_at': Timestamp('2022-10-11 19:20:23+0000', tz='UTC')},\n",
       " {'okashi': 'jagariko',\n",
       "  'price': 98,\n",
       "  'purchase_at': Timestamp('2022-10-15 10:45:10+0000', tz='UTC')}]"
      ]
     },
     "execution_count": 12,
     "metadata": {},
     "output_type": "execute_result"
    }
   ],
   "source": [
    "d_dict = df.to_dict(orient='records')\n",
    "d_dict"
   ]
  },
  {
   "cell_type": "code",
   "execution_count": 13,
   "metadata": {},
   "outputs": [
    {
     "data": {
      "text/plain": [
       "[{'okashi': 'umaibou-norishio',\n",
       "  'price': 12,\n",
       "  'purchase_at': '2022-10-10 04:50:33+00:00'},\n",
       " {'okashi': 'umaibou-mentai',\n",
       "  'price': 12,\n",
       "  'purchase_at': '2022-10-10 07:00:18+00:00'},\n",
       " {'okashi': 'umaibou-mentai',\n",
       "  'price': 12,\n",
       "  'purchase_at': '2022-10-10 20:34:46+00:00'},\n",
       " {'okashi': 'bacchus',\n",
       "  'price': 228,\n",
       "  'purchase_at': '2022-10-11 05:30:46+00:00'},\n",
       " {'okashi': 'yocchan',\n",
       "  'price': 50,\n",
       "  'purchase_at': '2022-10-11 19:20:23+00:00'},\n",
       " {'okashi': 'jagariko',\n",
       "  'price': 98,\n",
       "  'purchase_at': '2022-10-15 10:45:10+00:00'}]"
      ]
     },
     "execution_count": 13,
     "metadata": {},
     "output_type": "execute_result"
    }
   ],
   "source": [
    "df[\"purchase_at\"] = df['purchase_at'].dt.strftime('%Y-%m-%dT%H:%m:%s')\n",
    "d_dict = df.to_dict(orient='records')\n",
    "d_dict"
   ]
  }
 ],
 "metadata": {
  "kernelspec": {
   "display_name": "venv",
   "language": "python",
   "name": "python3"
  },
  "language_info": {
   "codemirror_mode": {
    "name": "ipython",
    "version": 3
   },
   "file_extension": ".py",
   "mimetype": "text/x-python",
   "name": "python",
   "nbconvert_exporter": "python",
   "pygments_lexer": "ipython3",
   "version": "3.10.9"
  },
  "orig_nbformat": 4,
  "vscode": {
   "interpreter": {
    "hash": "07816f3bd5e7996d36285c96a1be0c40a4657a4027641442b77002aebe5bda4f"
   }
  }
 },
 "nbformat": 4,
 "nbformat_minor": 2
}
